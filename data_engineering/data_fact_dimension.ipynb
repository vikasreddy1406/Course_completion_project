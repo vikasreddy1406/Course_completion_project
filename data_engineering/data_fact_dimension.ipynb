{
 "cells": [
  {
   "cell_type": "code",
   "execution_count": 1,
   "metadata": {},
   "outputs": [],
   "source": [
    "import pandas as pd\n",
    "import numpy as np"
   ]
  },
  {
   "cell_type": "code",
   "execution_count": 4,
   "metadata": {},
   "outputs": [],
   "source": [
    "final_df = pd.read_csv('data_warehouse/report/final_df.csv')"
   ]
  },
  {
   "cell_type": "code",
   "execution_count": 8,
   "metadata": {},
   "outputs": [],
   "source": [
    "# Create User Dimension\n",
    "user_dimension = final_df[['user_id', 'name', 'designation']].drop_duplicates().reset_index(drop=True)\n",
    "user_dimension.to_csv('data_warehouse/report/dimension/UserDimension.csv', index=False)"
   ]
  },
  {
   "cell_type": "code",
   "execution_count": 9,
   "metadata": {},
   "outputs": [],
   "source": [
    "# Create Course Dimension\n",
    "course_dimension = final_df[['course_id', 'course_title', 'course_tag', 'course_duration']].drop_duplicates().reset_index(drop=True)\n",
    "course_dimension.columns = ['course_id', 'title', 'tag', 'duration']  \n",
    "course_dimension.to_csv('data_warehouse/report/dimension/CourseDimension.csv', index=False)"
   ]
  },
  {
   "cell_type": "code",
   "execution_count": 10,
   "metadata": {},
   "outputs": [],
   "source": [
    "# Create Module Dimension \n",
    "module_dimension = final_df[['module_id', 'module_title', 'module_duration']].drop_duplicates().reset_index(drop=True)\n",
    "module_dimension.to_csv('data_warehouse/report/dimension/ModuleDimension.csv', index=False)"
   ]
  },
  {
   "cell_type": "code",
   "execution_count": 11,
   "metadata": {},
   "outputs": [],
   "source": [
    "course_performance_fact = final_df[['user_id', 'course_id', 'completion_percentage', 'course_score','modules_completed', 'total_modules', 'performance_score']].copy()\n",
    "course_performance_fact.to_csv('data_warehouse/report/fact/CoursePerformanceFact.csv', index=False)"
   ]
  }
 ],
 "metadata": {
  "kernelspec": {
   "display_name": "Python 3",
   "language": "python",
   "name": "python3"
  },
  "language_info": {
   "codemirror_mode": {
    "name": "ipython",
    "version": 3
   },
   "file_extension": ".py",
   "mimetype": "text/x-python",
   "name": "python",
   "nbconvert_exporter": "python",
   "pygments_lexer": "ipython3",
   "version": "3.12.5"
  }
 },
 "nbformat": 4,
 "nbformat_minor": 2
}
