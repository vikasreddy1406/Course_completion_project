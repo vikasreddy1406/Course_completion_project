{
 "cells": [
  {
   "cell_type": "code",
   "execution_count": 1,
   "metadata": {},
   "outputs": [],
   "source": [
    "import pandas as pd\n",
    "import numpy as np\n",
    "from faker import Faker\n",
    "import os"
   ]
  },
  {
   "cell_type": "code",
   "execution_count": 2,
   "metadata": {},
   "outputs": [],
   "source": [
    "fake = Faker()\n",
    "\n",
    "# Number of records\n",
    "num_users = 200\n",
    "num_courses = 30\n",
    "num_assignments = 100\n",
    "num_modules = 200"
   ]
  },
  {
   "cell_type": "code",
   "execution_count": 3,
   "metadata": {},
   "outputs": [],
   "source": [
    "def generate_users():\n",
    "    users = []\n",
    "    for _ in range(num_users):\n",
    "        users.append({\n",
    "            'user_id': fake.uuid4(),\n",
    "            'name': fake.name(),\n",
    "            'email': fake.email(),\n",
    "            'designation': fake.random_element([\n",
    "                'Web Developer', 'Data Engineer', 'Data Scientist', \n",
    "                'AI Specialist', 'DevOps Engineer', 'Cybersecurity Specialist', \n",
    "                'Mobile Developer', 'UI/UX Designer', 'Software Tester']),\n",
    "            'created_at': fake.date_time_this_year(),\n",
    "            \n",
    "        })\n",
    "    return pd.DataFrame(users)"
   ]
  },
  {
   "cell_type": "code",
   "execution_count": 4,
   "metadata": {},
   "outputs": [],
   "source": [
    "def generate_courses():\n",
    "    courses = []\n",
    "    for _ in range(num_courses):\n",
    "        courses.append({\n",
    "            'course_id': fake.uuid4(),\n",
    "            'title': fake.catch_phrase(),\n",
    "            'description': fake.text(max_nb_chars=200),\n",
    "            'duration': fake.random_int(min=50, max=180),  \n",
    "            'modules': fake.random_int(min=1, max=10),\n",
    "            'created_at': fake.date_time_this_year(),\n",
    "            'tag': fake.random_element([\n",
    "                'Web Development', 'Data Engineering', 'Data Science', \n",
    "                'Generative AI', 'DevOps', 'Cybersecurity', \n",
    "                'Mobile Development', 'UI/UX Design', 'Software Testing'])\n",
    "        })\n",
    "    return pd.DataFrame(courses)"
   ]
  },
  {
   "cell_type": "code",
   "execution_count": 5,
   "metadata": {},
   "outputs": [],
   "source": [
    "def generate_course_assignments(users, courses):\n",
    "    assignments = []\n",
    "    for _ in range(num_assignments):\n",
    "        assignments.append({\n",
    "            'assignment_id': fake.uuid4(),\n",
    "            'employee_id': fake.random_element(users['user_id']),\n",
    "            'course_id': fake.random_element(courses['course_id']),\n",
    "            'assigned_at': fake.date_time_this_year(),\n",
    "        })\n",
    "    return pd.DataFrame(assignments)\n"
   ]
  },
  {
   "cell_type": "code",
   "execution_count": 6,
   "metadata": {},
   "outputs": [],
   "source": [
    "def generate_course_modules(courses):\n",
    "    modules = []\n",
    "    for _ in range(num_modules):\n",
    "        modules.append({\n",
    "            'module_id': fake.uuid4(),\n",
    "            'course_id': fake.random_element(courses['course_id']),\n",
    "            'module_title': fake.catch_phrase(),\n",
    "            'module_content': fake.text(max_nb_chars=300),\n",
    "            'module_duration': fake.random_int(min=10, max=30), \n",
    "            'created_at': fake.date_time_this_year(),\n",
    "        })\n",
    "    return pd.DataFrame(modules)"
   ]
  },
  {
   "cell_type": "code",
   "execution_count": 7,
   "metadata": {},
   "outputs": [],
   "source": [
    "def generate_course_progress(users, assignments):\n",
    "    progress = []\n",
    "    for _, assignment in assignments.iterrows():\n",
    "        completion_percentage = fake.random_int(min=0, max=100)\n",
    "        score = fake.random_int(min=20, max=100)  \n",
    "        progress.append({\n",
    "            'progress_id': fake.uuid4(),\n",
    "            'employee_id': assignment['employee_id'],\n",
    "            'course_id': assignment['course_id'],\n",
    "            'completion_percentage': completion_percentage,\n",
    "            'score': score,  \n",
    "            'completed_at': fake.date_time_this_year() if completion_percentage == 100 else None,\n",
    "        })\n",
    "    return pd.DataFrame(progress)"
   ]
  },
  {
   "cell_type": "code",
   "execution_count": 8,
   "metadata": {},
   "outputs": [],
   "source": [
    "def generate_module_progress(users, courses, modules):\n",
    "    module_progress = []\n",
    "    for user_id in users['user_id']:\n",
    "        for module_id in modules['module_id']:\n",
    "            is_completed = fake.boolean()\n",
    "            module_progress.append({\n",
    "                'module_progress_id': fake.uuid4(),\n",
    "                'employee_id': user_id,\n",
    "                'course_id': fake.random_element(courses['course_id']),\n",
    "                'module_id': module_id,\n",
    "                'is_completed': is_completed,\n",
    "                'completed_at': fake.date_time_this_year() if is_completed else None,\n",
    "            })\n",
    "    return pd.DataFrame(module_progress)"
   ]
  },
  {
   "cell_type": "code",
   "execution_count": 9,
   "metadata": {},
   "outputs": [],
   "source": [
    "os.makedirs(\"data_warehouse/raw\", exist_ok=True)\n",
    "os.makedirs(\"data_warehouse/staging\", exist_ok=True)\n",
    "os.makedirs(\"data_warehouse/report\", exist_ok=True)"
   ]
  },
  {
   "cell_type": "code",
   "execution_count": 10,
   "metadata": {},
   "outputs": [],
   "source": [
    "users_df = generate_users()\n",
    "courses_df = generate_courses()\n",
    "assignments_df = generate_course_assignments(users_df, courses_df)\n",
    "modules_df = generate_course_modules(courses_df)\n",
    "progress_df = generate_course_progress(users_df, assignments_df)\n",
    "module_progress_df = generate_module_progress(users_df, courses_df, modules_df)"
   ]
  },
  {
   "cell_type": "code",
   "execution_count": 11,
   "metadata": {},
   "outputs": [],
   "source": [
    "users_df.to_csv(\"data_warehouse/raw/users.csv\", index=False)\n",
    "courses_df.to_csv(\"data_warehouse/raw/courses.csv\", index=False)\n",
    "assignments_df.to_csv(\"data_warehouse/raw/course_assignments.csv\", index=False)\n",
    "modules_df.to_csv(\"data_warehouse/raw/course_modules.csv\", index=False)\n",
    "progress_df.to_csv(\"data_warehouse/raw/course_progress.csv\", index=False)\n",
    "module_progress_df.to_csv(\"data_warehouse/raw/module_progress.csv\", index=False)"
   ]
  }
 ],
 "metadata": {
  "kernelspec": {
   "display_name": "Python 3",
   "language": "python",
   "name": "python3"
  },
  "language_info": {
   "codemirror_mode": {
    "name": "ipython",
    "version": 3
   },
   "file_extension": ".py",
   "mimetype": "text/x-python",
   "name": "python",
   "nbconvert_exporter": "python",
   "pygments_lexer": "ipython3",
   "version": "3.12.5"
  }
 },
 "nbformat": 4,
 "nbformat_minor": 2
}
