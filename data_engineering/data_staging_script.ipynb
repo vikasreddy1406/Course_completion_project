{
 "cells": [
  {
   "cell_type": "code",
   "execution_count": 10,
   "metadata": {},
   "outputs": [],
   "source": [
    "import pandas as pd"
   ]
  },
  {
   "cell_type": "code",
   "execution_count": 11,
   "metadata": {},
   "outputs": [],
   "source": [
    "course_progress_df = pd.read_csv('data_warehouse/raw/course_progress.csv')\n",
    "module_progress_df = pd.read_csv('data_warehouse/raw/module_progress.csv')\n",
    "users_df = pd.read_csv('data_warehouse/raw/users.csv')\n",
    "courses_df = pd.read_csv('data_warehouse/raw/courses.csv')\n",
    "modules_df = pd.read_csv('data_warehouse/raw/course_modules.csv')\n",
    "course_assignment_df = pd.read_csv('data_warehouse/raw/course_assignments.csv')"
   ]
  },
  {
   "cell_type": "markdown",
   "metadata": {},
   "source": [
    "Drop duplicates"
   ]
  },
  {
   "cell_type": "code",
   "execution_count": 12,
   "metadata": {},
   "outputs": [],
   "source": [
    "course_progress_df.drop_duplicates(inplace=True)\n",
    "module_progress_df.drop_duplicates(inplace=True)\n",
    "users_df.drop_duplicates(inplace=True)\n",
    "courses_df.drop_duplicates(inplace=True)\n",
    "modules_df.drop_duplicates(inplace=True)"
   ]
  },
  {
   "cell_type": "markdown",
   "metadata": {},
   "source": [
    "Handle Null Values"
   ]
  },
  {
   "cell_type": "code",
   "execution_count": 13,
   "metadata": {},
   "outputs": [
    {
     "name": "stderr",
     "output_type": "stream",
     "text": [
      "C:\\Users\\SaiVikas\\AppData\\Local\\Temp\\ipykernel_1684\\1900672294.py:1: FutureWarning: A value is trying to be set on a copy of a DataFrame or Series through chained assignment using an inplace method.\n",
      "The behavior will change in pandas 3.0. This inplace method will never work because the intermediate object on which we are setting values always behaves as a copy.\n",
      "\n",
      "For example, when doing 'df[col].method(value, inplace=True)', try using 'df.method({col: value}, inplace=True)' or df[col] = df[col].method(value) instead, to perform the operation inplace on the original object.\n",
      "\n",
      "\n",
      "  course_progress_df['completion_percentage'].fillna(0, inplace=True)\n"
     ]
    }
   ],
   "source": [
    "course_progress_df['completion_percentage'].fillna(0, inplace=True)\n",
    "module_progress_df['is_completed'] = module_progress_df['is_completed'].replace({'TRUE': 1, 'FALSE': 0}).fillna(0).astype(int)\n",
    "\n",
    "\n",
    "course_progress_df['completed_at'] = pd.to_datetime(course_progress_df['completed_at'])\n",
    "module_progress_df['completed_at'] = pd.to_datetime(module_progress_df['completed_at'])"
   ]
  },
  {
   "cell_type": "code",
   "execution_count": 14,
   "metadata": {},
   "outputs": [
    {
     "name": "stderr",
     "output_type": "stream",
     "text": [
      "C:\\Users\\SaiVikas\\AppData\\Local\\Temp\\ipykernel_1684\\769866326.py:1: FutureWarning: A value is trying to be set on a copy of a DataFrame or Series through chained assignment using an inplace method.\n",
      "The behavior will change in pandas 3.0. This inplace method will never work because the intermediate object on which we are setting values always behaves as a copy.\n",
      "\n",
      "For example, when doing 'df[col].method(value, inplace=True)', try using 'df.method({col: value}, inplace=True)' or df[col] = df[col].method(value) instead, to perform the operation inplace on the original object.\n",
      "\n",
      "\n",
      "  course_progress_df['completed_at'].fillna(pd.NaT, inplace=True)\n",
      "C:\\Users\\SaiVikas\\AppData\\Local\\Temp\\ipykernel_1684\\769866326.py:2: FutureWarning: A value is trying to be set on a copy of a DataFrame or Series through chained assignment using an inplace method.\n",
      "The behavior will change in pandas 3.0. This inplace method will never work because the intermediate object on which we are setting values always behaves as a copy.\n",
      "\n",
      "For example, when doing 'df[col].method(value, inplace=True)', try using 'df.method({col: value}, inplace=True)' or df[col] = df[col].method(value) instead, to perform the operation inplace on the original object.\n",
      "\n",
      "\n",
      "  module_progress_df['completed_at'].fillna(pd.NaT, inplace=True)\n",
      "C:\\Users\\SaiVikas\\AppData\\Local\\Temp\\ipykernel_1684\\769866326.py:4: FutureWarning: A value is trying to be set on a copy of a DataFrame or Series through chained assignment using an inplace method.\n",
      "The behavior will change in pandas 3.0. This inplace method will never work because the intermediate object on which we are setting values always behaves as a copy.\n",
      "\n",
      "For example, when doing 'df[col].method(value, inplace=True)', try using 'df.method({col: value}, inplace=True)' or df[col] = df[col].method(value) instead, to perform the operation inplace on the original object.\n",
      "\n",
      "\n",
      "  course_progress_df['employee_id'].fillna('unknown', inplace=True)\n",
      "C:\\Users\\SaiVikas\\AppData\\Local\\Temp\\ipykernel_1684\\769866326.py:5: FutureWarning: A value is trying to be set on a copy of a DataFrame or Series through chained assignment using an inplace method.\n",
      "The behavior will change in pandas 3.0. This inplace method will never work because the intermediate object on which we are setting values always behaves as a copy.\n",
      "\n",
      "For example, when doing 'df[col].method(value, inplace=True)', try using 'df.method({col: value}, inplace=True)' or df[col] = df[col].method(value) instead, to perform the operation inplace on the original object.\n",
      "\n",
      "\n",
      "  module_progress_df['employee_id'].fillna('unknown', inplace=True)\n",
      "C:\\Users\\SaiVikas\\AppData\\Local\\Temp\\ipykernel_1684\\769866326.py:7: FutureWarning: A value is trying to be set on a copy of a DataFrame or Series through chained assignment using an inplace method.\n",
      "The behavior will change in pandas 3.0. This inplace method will never work because the intermediate object on which we are setting values always behaves as a copy.\n",
      "\n",
      "For example, when doing 'df[col].method(value, inplace=True)', try using 'df.method({col: value}, inplace=True)' or df[col] = df[col].method(value) instead, to perform the operation inplace on the original object.\n",
      "\n",
      "\n",
      "  course_progress_df['course_id'].fillna('unknown', inplace=True)\n",
      "C:\\Users\\SaiVikas\\AppData\\Local\\Temp\\ipykernel_1684\\769866326.py:8: FutureWarning: A value is trying to be set on a copy of a DataFrame or Series through chained assignment using an inplace method.\n",
      "The behavior will change in pandas 3.0. This inplace method will never work because the intermediate object on which we are setting values always behaves as a copy.\n",
      "\n",
      "For example, when doing 'df[col].method(value, inplace=True)', try using 'df.method({col: value}, inplace=True)' or df[col] = df[col].method(value) instead, to perform the operation inplace on the original object.\n",
      "\n",
      "\n",
      "  module_progress_df['course_id'].fillna('unknown', inplace=True)\n",
      "C:\\Users\\SaiVikas\\AppData\\Local\\Temp\\ipykernel_1684\\769866326.py:9: FutureWarning: A value is trying to be set on a copy of a DataFrame or Series through chained assignment using an inplace method.\n",
      "The behavior will change in pandas 3.0. This inplace method will never work because the intermediate object on which we are setting values always behaves as a copy.\n",
      "\n",
      "For example, when doing 'df[col].method(value, inplace=True)', try using 'df.method({col: value}, inplace=True)' or df[col] = df[col].method(value) instead, to perform the operation inplace on the original object.\n",
      "\n",
      "\n",
      "  module_progress_df['module_id'].fillna('unknown', inplace=True)\n"
     ]
    }
   ],
   "source": [
    "course_progress_df['completed_at'].fillna(pd.NaT, inplace=True)\n",
    "module_progress_df['completed_at'].fillna(pd.NaT, inplace=True)\n",
    "\n",
    "course_progress_df['employee_id'].fillna('unknown', inplace=True)\n",
    "module_progress_df['employee_id'].fillna('unknown', inplace=True)\n",
    "\n",
    "course_progress_df['course_id'].fillna('unknown', inplace=True)\n",
    "module_progress_df['course_id'].fillna('unknown', inplace=True)\n",
    "module_progress_df['module_id'].fillna('unknown', inplace=True)"
   ]
  },
  {
   "cell_type": "markdown",
   "metadata": {},
   "source": [
    "Convert the ID to string datatypes"
   ]
  },
  {
   "cell_type": "code",
   "execution_count": 15,
   "metadata": {},
   "outputs": [],
   "source": [
    "course_progress_df['employee_id'] = course_progress_df['employee_id'].astype(str)\n",
    "course_progress_df['course_id'] = course_progress_df['course_id'].astype(str)\n",
    "\n",
    "module_progress_df['employee_id'] = module_progress_df['employee_id'].astype(str)\n",
    "module_progress_df['course_id'] = module_progress_df['course_id'].astype(str)\n",
    "module_progress_df['module_id'] = module_progress_df['module_id'].astype(str)"
   ]
  },
  {
   "cell_type": "code",
   "execution_count": 16,
   "metadata": {},
   "outputs": [],
   "source": [
    "users_df['user_id'] = users_df['user_id'].astype(str)\n",
    "users_df['email'] = users_df['email'].astype(str)\n",
    "\n",
    "course_progress_df['completion_percentage'] = course_progress_df['completion_percentage'].astype(float)\n",
    "module_progress_df['is_completed'] = module_progress_df['is_completed'].astype(int)"
   ]
  },
  {
   "cell_type": "markdown",
   "metadata": {},
   "source": [
    "DATA DESCRIBE"
   ]
  },
  {
   "cell_type": "code",
   "execution_count": 17,
   "metadata": {},
   "outputs": [
    {
     "name": "stdout",
     "output_type": "stream",
     "text": [
      "<class 'pandas.core.frame.DataFrame'>\n",
      "RangeIndex: 100 entries, 0 to 99\n",
      "Data columns (total 6 columns):\n",
      " #   Column                 Non-Null Count  Dtype         \n",
      "---  ------                 --------------  -----         \n",
      " 0   progress_id            100 non-null    object        \n",
      " 1   employee_id            100 non-null    object        \n",
      " 2   course_id              100 non-null    object        \n",
      " 3   completion_percentage  100 non-null    float64       \n",
      " 4   score                  100 non-null    int64         \n",
      " 5   completed_at           3 non-null      datetime64[ns]\n",
      "dtypes: datetime64[ns](1), float64(1), int64(1), object(3)\n",
      "memory usage: 4.8+ KB\n",
      "None\n",
      "<class 'pandas.core.frame.DataFrame'>\n",
      "RangeIndex: 40000 entries, 0 to 39999\n",
      "Data columns (total 6 columns):\n",
      " #   Column              Non-Null Count  Dtype         \n",
      "---  ------              --------------  -----         \n",
      " 0   module_progress_id  40000 non-null  object        \n",
      " 1   employee_id         40000 non-null  object        \n",
      " 2   course_id           40000 non-null  object        \n",
      " 3   module_id           40000 non-null  object        \n",
      " 4   is_completed        40000 non-null  int64         \n",
      " 5   completed_at        20025 non-null  datetime64[ns]\n",
      "dtypes: datetime64[ns](1), int64(1), object(4)\n",
      "memory usage: 1.8+ MB\n",
      "None\n",
      "<class 'pandas.core.frame.DataFrame'>\n",
      "RangeIndex: 200 entries, 0 to 199\n",
      "Data columns (total 5 columns):\n",
      " #   Column       Non-Null Count  Dtype \n",
      "---  ------       --------------  ----- \n",
      " 0   user_id      200 non-null    object\n",
      " 1   name         200 non-null    object\n",
      " 2   email        200 non-null    object\n",
      " 3   designation  200 non-null    object\n",
      " 4   created_at   200 non-null    object\n",
      "dtypes: object(5)\n",
      "memory usage: 7.9+ KB\n",
      "None\n",
      "<class 'pandas.core.frame.DataFrame'>\n",
      "RangeIndex: 30 entries, 0 to 29\n",
      "Data columns (total 7 columns):\n",
      " #   Column       Non-Null Count  Dtype \n",
      "---  ------       --------------  ----- \n",
      " 0   course_id    30 non-null     object\n",
      " 1   title        30 non-null     object\n",
      " 2   description  30 non-null     object\n",
      " 3   duration     30 non-null     int64 \n",
      " 4   modules      30 non-null     int64 \n",
      " 5   created_at   30 non-null     object\n",
      " 6   tag          30 non-null     object\n",
      "dtypes: int64(2), object(5)\n",
      "memory usage: 1.8+ KB\n",
      "None\n",
      "<class 'pandas.core.frame.DataFrame'>\n",
      "RangeIndex: 200 entries, 0 to 199\n",
      "Data columns (total 6 columns):\n",
      " #   Column           Non-Null Count  Dtype \n",
      "---  ------           --------------  ----- \n",
      " 0   module_id        200 non-null    object\n",
      " 1   course_id        200 non-null    object\n",
      " 2   module_title     200 non-null    object\n",
      " 3   module_content   200 non-null    object\n",
      " 4   module_duration  200 non-null    int64 \n",
      " 5   created_at       200 non-null    object\n",
      "dtypes: int64(1), object(5)\n",
      "memory usage: 9.5+ KB\n",
      "None\n",
      "       completion_percentage       score                completed_at\n",
      "count             100.000000  100.000000                           3\n",
      "mean               46.730000   61.810000         2024-03-08 08:29:50\n",
      "min                 0.000000   20.000000         2024-01-19 10:20:32\n",
      "25%                21.500000   43.750000  2024-02-12 23:14:15.500000\n",
      "50%                43.000000   63.000000         2024-03-08 12:07:59\n",
      "75%                72.250000   83.000000         2024-04-01 19:34:29\n",
      "max               100.000000   98.000000         2024-04-26 03:00:59\n",
      "std                29.764345   23.030369                         NaN\n",
      "       is_completed                   completed_at\n",
      "count  40000.000000                          20025\n",
      "mean       0.500625  2024-05-22 13:18:19.600649216\n",
      "min        0.000000            2024-01-01 00:11:18\n",
      "25%        0.000000            2024-03-11 15:48:57\n",
      "50%        1.000000            2024-05-22 10:06:11\n",
      "75%        1.000000            2024-08-02 04:47:53\n",
      "max        1.000000            2024-10-14 09:22:52\n",
      "std        0.500006                            NaN\n"
     ]
    }
   ],
   "source": [
    "\n",
    "print(course_progress_df.info())\n",
    "print(module_progress_df.info())\n",
    "print(users_df.info())\n",
    "print(courses_df.info())\n",
    "print(modules_df.info())\n",
    "\n",
    "print(course_progress_df.describe())\n",
    "print(module_progress_df.describe())"
   ]
  },
  {
   "cell_type": "code",
   "execution_count": 18,
   "metadata": {},
   "outputs": [],
   "source": [
    "course_progress_df.to_csv('data_warehouse/staging/course_progress_staging.csv', index=False)\n",
    "module_progress_df.to_csv('data_warehouse/staging/module_progress_staging.csv', index=False)\n",
    "users_df.to_csv('data_warehouse/staging/users_staging.csv', index=False)\n",
    "courses_df.to_csv('data_warehouse/staging/courses_staging.csv', index=False)\n",
    "modules_df.to_csv('data_warehouse/staging/modules_staging.csv', index=False)\n",
    "course_assignment_df.to_csv('data_warehouse/staging/course_assignment_staging.csv', index=False)"
   ]
  }
 ],
 "metadata": {
  "kernelspec": {
   "display_name": "Python 3",
   "language": "python",
   "name": "python3"
  },
  "language_info": {
   "codemirror_mode": {
    "name": "ipython",
    "version": 3
   },
   "file_extension": ".py",
   "mimetype": "text/x-python",
   "name": "python",
   "nbconvert_exporter": "python",
   "pygments_lexer": "ipython3",
   "version": "3.12.5"
  }
 },
 "nbformat": 4,
 "nbformat_minor": 2
}
