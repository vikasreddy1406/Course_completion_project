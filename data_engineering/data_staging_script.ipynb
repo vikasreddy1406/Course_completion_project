{
 "cells": [
  {
   "cell_type": "code",
   "execution_count": 45,
   "metadata": {},
   "outputs": [],
   "source": [
    "import pandas as pd"
   ]
  },
  {
   "cell_type": "code",
   "execution_count": 46,
   "metadata": {},
   "outputs": [],
   "source": [
    "course_progress_df = pd.read_csv('data_warehouse/raw/course_progress.csv')\n",
    "module_progress_df = pd.read_csv('data_warehouse/raw/module_progress.csv')\n",
    "users_df = pd.read_csv('data_warehouse/raw/users.csv')\n",
    "courses_df = pd.read_csv('data_warehouse/raw/courses.csv')\n",
    "modules_df = pd.read_csv('data_warehouse/raw/course_modules.csv')\n",
    "course_assignment_df = pd.read_csv('data_warehouse/raw/course_assignments.csv')"
   ]
  },
  {
   "cell_type": "markdown",
   "metadata": {},
   "source": [
    "Drop duplicates"
   ]
  },
  {
   "cell_type": "code",
   "execution_count": 47,
   "metadata": {},
   "outputs": [],
   "source": [
    "course_progress_df.drop_duplicates(inplace=True)\n",
    "module_progress_df.drop_duplicates(inplace=True)\n",
    "users_df.drop_duplicates(inplace=True)\n",
    "courses_df.drop_duplicates(inplace=True)\n",
    "modules_df.drop_duplicates(inplace=True)"
   ]
  },
  {
   "cell_type": "markdown",
   "metadata": {},
   "source": [
    "Handle Null Values"
   ]
  },
  {
   "cell_type": "code",
   "execution_count": 48,
   "metadata": {},
   "outputs": [
    {
     "name": "stderr",
     "output_type": "stream",
     "text": [
      "C:\\Users\\SaiVikas\\AppData\\Local\\Temp\\ipykernel_22048\\1900672294.py:1: FutureWarning: A value is trying to be set on a copy of a DataFrame or Series through chained assignment using an inplace method.\n",
      "The behavior will change in pandas 3.0. This inplace method will never work because the intermediate object on which we are setting values always behaves as a copy.\n",
      "\n",
      "For example, when doing 'df[col].method(value, inplace=True)', try using 'df.method({col: value}, inplace=True)' or df[col] = df[col].method(value) instead, to perform the operation inplace on the original object.\n",
      "\n",
      "\n",
      "  course_progress_df['completion_percentage'].fillna(0, inplace=True)\n"
     ]
    }
   ],
   "source": [
    "course_progress_df['completion_percentage'].fillna(0, inplace=True)\n",
    "module_progress_df['is_completed'] = module_progress_df['is_completed'].replace({'TRUE': 1, 'FALSE': 0}).fillna(0).astype(int)\n",
    "\n",
    "\n",
    "course_progress_df['completed_at'] = pd.to_datetime(course_progress_df['completed_at'])\n",
    "module_progress_df['completed_at'] = pd.to_datetime(module_progress_df['completed_at'])"
   ]
  },
  {
   "cell_type": "markdown",
   "metadata": {},
   "source": [
    "Convert the ID to string datatypes"
   ]
  },
  {
   "cell_type": "code",
   "execution_count": 49,
   "metadata": {},
   "outputs": [],
   "source": [
    "course_progress_df['employee_id'] = course_progress_df['employee_id'].astype(str)\n",
    "course_progress_df['course_id'] = course_progress_df['course_id'].astype(str)\n",
    "\n",
    "module_progress_df['employee_id'] = module_progress_df['employee_id'].astype(str)\n",
    "module_progress_df['course_id'] = module_progress_df['course_id'].astype(str)\n",
    "module_progress_df['module_id'] = module_progress_df['module_id'].astype(str)"
   ]
  },
  {
   "cell_type": "code",
   "execution_count": 50,
   "metadata": {},
   "outputs": [],
   "source": [
    "course_progress_df.to_csv('data_warehouse/staging/course_progress_staging.csv', index=False)\n",
    "module_progress_df.to_csv('data_warehouse/staging/module_progress_staging.csv', index=False)\n",
    "users_df.to_csv('data_warehouse/staging/users_staging.csv', index=False)\n",
    "courses_df.to_csv('data_warehouse/staging/courses_staging.csv', index=False)\n",
    "modules_df.to_csv('data_warehouse/staging/modules_staging.csv', index=False)\n",
    "course_assignment_df.to_csv('data_warehouse/staging/course_assignment_staging.csv', index=False)"
   ]
  }
 ],
 "metadata": {
  "kernelspec": {
   "display_name": "Python 3",
   "language": "python",
   "name": "python3"
  },
  "language_info": {
   "codemirror_mode": {
    "name": "ipython",
    "version": 3
   },
   "file_extension": ".py",
   "mimetype": "text/x-python",
   "name": "python",
   "nbconvert_exporter": "python",
   "pygments_lexer": "ipython3",
   "version": "3.12.5"
  }
 },
 "nbformat": 4,
 "nbformat_minor": 2
}
