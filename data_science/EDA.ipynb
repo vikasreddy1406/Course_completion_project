{
 "cells": [
  {
   "cell_type": "code",
   "execution_count": 1,
   "metadata": {},
   "outputs": [],
   "source": [
    "import pandas as pd\n",
    "import matplotlib.pyplot as plt\n",
    "import seaborn as sns \n",
    "import plotly.express as px\n",
    "import plotly.graph_objects as go\n",
    "import altair as alt"
   ]
  },
  {
   "cell_type": "code",
   "execution_count": 2,
   "metadata": {},
   "outputs": [],
   "source": [
    "employee_performance = pd.read_csv('../data_engineering/data_warehouse/report/employee_performance_kpi.csv')\n",
    "\n",
    "unassigned_courses = pd.read_csv('../data_engineering/data_warehouse/report/unassigned_courses.csv')"
   ]
  },
  {
   "cell_type": "code",
   "execution_count": 3,
   "metadata": {},
   "outputs": [
    {
     "data": {
      "text/plain": [
       "Index(['user_id', 'name', 'designation', 'course_id', 'course_title',\n",
       "       'course_tag', 'course_duration', 'modules_completed', 'total_modules',\n",
       "       'completion_percentage', 'course_score', 'performance_score'],\n",
       "      dtype='object')"
      ]
     },
     "execution_count": 3,
     "metadata": {},
     "output_type": "execute_result"
    }
   ],
   "source": [
    "employee_performance.columns"
   ]
  },
  {
   "cell_type": "code",
   "execution_count": 4,
   "metadata": {},
   "outputs": [
    {
     "data": {
      "text/plain": [
       "Index(['user_id', 'name', 'designation', 'course_id', 'title', 'tag',\n",
       "       'duration', 'modules'],\n",
       "      dtype='object')"
      ]
     },
     "execution_count": 4,
     "metadata": {},
     "output_type": "execute_result"
    }
   ],
   "source": [
    "unassigned_courses.columns"
   ]
  },
  {
   "cell_type": "markdown",
   "metadata": {},
   "source": [
    "HYPOTHESIS"
   ]
  },
  {
   "cell_type": "markdown",
   "metadata": {},
   "source": [
    "Hypothesis: Employees with a higher completion percentage in courses achieve higher performance scores."
   ]
  },
  {
   "cell_type": "code",
   "execution_count": 5,
   "metadata": {},
   "outputs": [
    {
     "data": {
      "text/html": [
       "\n",
       "<style>\n",
       "  #altair-viz-78c10d56b998434f9b8f0c90b3aded4f.vega-embed {\n",
       "    width: 100%;\n",
       "    display: flex;\n",
       "  }\n",
       "\n",
       "  #altair-viz-78c10d56b998434f9b8f0c90b3aded4f.vega-embed details,\n",
       "  #altair-viz-78c10d56b998434f9b8f0c90b3aded4f.vega-embed details summary {\n",
       "    position: relative;\n",
       "  }\n",
       "</style>\n",
       "<div id=\"altair-viz-78c10d56b998434f9b8f0c90b3aded4f\"></div>\n",
       "<script type=\"text/javascript\">\n",
       "  var VEGA_DEBUG = (typeof VEGA_DEBUG == \"undefined\") ? {} : VEGA_DEBUG;\n",
       "  (function(spec, embedOpt){\n",
       "    let outputDiv = document.currentScript.previousElementSibling;\n",
       "    if (outputDiv.id !== \"altair-viz-78c10d56b998434f9b8f0c90b3aded4f\") {\n",
       "      outputDiv = document.getElementById(\"altair-viz-78c10d56b998434f9b8f0c90b3aded4f\");\n",
       "    }\n",
       "    const paths = {\n",
       "      \"vega\": \"https://cdn.jsdelivr.net/npm/vega@5?noext\",\n",
       "      \"vega-lib\": \"https://cdn.jsdelivr.net/npm/vega-lib?noext\",\n",
       "      \"vega-lite\": \"https://cdn.jsdelivr.net/npm/vega-lite@5.20.1?noext\",\n",
       "      \"vega-embed\": \"https://cdn.jsdelivr.net/npm/vega-embed@6?noext\",\n",
       "    };\n",
       "\n",
       "    function maybeLoadScript(lib, version) {\n",
       "      var key = `${lib.replace(\"-\", \"\")}_version`;\n",
       "      return (VEGA_DEBUG[key] == version) ?\n",
       "        Promise.resolve(paths[lib]) :\n",
       "        new Promise(function(resolve, reject) {\n",
       "          var s = document.createElement('script');\n",
       "          document.getElementsByTagName(\"head\")[0].appendChild(s);\n",
       "          s.async = true;\n",
       "          s.onload = () => {\n",
       "            VEGA_DEBUG[key] = version;\n",
       "            return resolve(paths[lib]);\n",
       "          };\n",
       "          s.onerror = () => reject(`Error loading script: ${paths[lib]}`);\n",
       "          s.src = paths[lib];\n",
       "        });\n",
       "    }\n",
       "\n",
       "    function showError(err) {\n",
       "      outputDiv.innerHTML = `<div class=\"error\" style=\"color:red;\">${err}</div>`;\n",
       "      throw err;\n",
       "    }\n",
       "\n",
       "    function displayChart(vegaEmbed) {\n",
       "      vegaEmbed(outputDiv, spec, embedOpt)\n",
       "        .catch(err => showError(`Javascript Error: ${err.message}<br>This usually means there's a typo in your chart specification. See the javascript console for the full traceback.`));\n",
       "    }\n",
       "\n",
       "    if(typeof define === \"function\" && define.amd) {\n",
       "      requirejs.config({paths});\n",
       "      require([\"vega-embed\"], displayChart, err => showError(`Error loading script: ${err.message}`));\n",
       "    } else {\n",
       "      maybeLoadScript(\"vega\", \"5\")\n",
       "        .then(() => maybeLoadScript(\"vega-lite\", \"5.20.1\"))\n",
       "        .then(() => maybeLoadScript(\"vega-embed\", \"6\"))\n",
       "        .catch(showError)\n",
       "        .then(() => displayChart(vegaEmbed));\n",
       "    }\n",
       "  })({\"config\": {\"view\": {\"continuousWidth\": 300, \"continuousHeight\": 300}}, \"data\": {\"name\": \"data-a696494f2d3736d8332929dcf27b5f61\"}, \"mark\": {\"type\": \"circle\", \"size\": 60}, \"encoding\": {\"tooltip\": [{\"field\": \"completion_percentage\", \"type\": \"quantitative\"}, {\"field\": \"performance_score\", \"type\": \"quantitative\"}], \"x\": {\"field\": \"completion_percentage\", \"title\": \"Average Completion Percentage (%)\", \"type\": \"quantitative\"}, \"y\": {\"field\": \"performance_score\", \"title\": \"Average Performance Score\", \"type\": \"quantitative\"}}, \"height\": 400, \"params\": [{\"name\": \"param_1\", \"select\": {\"type\": \"interval\", \"encodings\": [\"x\", \"y\"]}, \"bind\": \"scales\"}], \"title\": \"Course Completion Percentage vs. Performance Score\", \"width\": 600, \"$schema\": \"https://vega.github.io/schema/vega-lite/v5.20.1.json\", \"datasets\": {\"data-a696494f2d3736d8332929dcf27b5f61\": [{\"user_id\": \"0e102525-4073-488a-904e-c5f00a709555\", \"name\": \"Terry Pena\", \"designation\": \"Software Tester\", \"completion_percentage\": 44.44444444444444, \"performance_score\": 45.0}, {\"user_id\": \"10411182-6a30-41fb-b24c-1242a632057e\", \"name\": \"Erik Owens\", \"designation\": \"Data Scientist\", \"completion_percentage\": 83.33333333333334, \"performance_score\": 74.0}, {\"user_id\": \"16eda4ba-42cd-4b9f-9db9-3a0e0285cab5\", \"name\": \"Amanda Hayden\", \"designation\": \"Data Scientist\", \"completion_percentage\": 50.0, \"performance_score\": 89.0}, {\"user_id\": \"17c2a5fb-7682-45e3-9bd0-2ddc6431ef00\", \"name\": \"Carol Howard\", \"designation\": \"Data Scientist\", \"completion_percentage\": 75.0, \"performance_score\": 92.0}, {\"user_id\": \"1c4b38aa-0361-49eb-a5bd-372a50bc990e\", \"name\": \"James Matthews\", \"designation\": \"AI Specialist\", \"completion_percentage\": 40.0, \"performance_score\": 56.00000000000001}, {\"user_id\": \"1d190915-1796-4d7a-8781-caf004beb2c1\", \"name\": \"Mrs. Leslie Juarez\", \"designation\": \"Data Engineer\", \"completion_percentage\": 57.14285714285714, \"performance_score\": 42.0}, {\"user_id\": \"1d695e42-7c4c-45e1-be9f-0ad55f946d5e\", \"name\": \"Mary Chapman\", \"designation\": \"UI/UX Designer\", \"completion_percentage\": 40.0, \"performance_score\": 41.0}, {\"user_id\": \"1fb9677c-31b8-45ef-8d90-107c5f7f117e\", \"name\": \"Hunter Johnson\", \"designation\": \"Data Scientist\", \"completion_percentage\": 33.33333333333333, \"performance_score\": 81.0}, {\"user_id\": \"209d9804-e95e-44c2-bdf1-5ac81c0fc911\", \"name\": \"Christopher Martin\", \"designation\": \"Web Developer\", \"completion_percentage\": 50.0, \"performance_score\": 63.0}, {\"user_id\": \"283bf16a-8751-4486-af60-9582cf7b8152\", \"name\": \"Jennifer Brown\", \"designation\": \"Cybersecurity Specialist\", \"completion_percentage\": 57.14285714285714, \"performance_score\": 91.0}, {\"user_id\": \"2c7fc651-e5b7-4a60-ac2e-d510734efef1\", \"name\": \"Riley Blake\", \"designation\": \"Data Scientist\", \"completion_percentage\": 66.66666666666666, \"performance_score\": 97.0}, {\"user_id\": \"2dd31992-9126-445e-ad42-779e8b16bb10\", \"name\": \"Heather Freeman\", \"designation\": \"Cybersecurity Specialist\", \"completion_percentage\": 66.66666666666666, \"performance_score\": 57.99999999999999}, {\"user_id\": \"2f141ed2-8e58-4b44-acf7-7dc8999deb6d\", \"name\": \"Jessica Miller\", \"designation\": \"UI/UX Designer\", \"completion_percentage\": 42.85714285714285, \"performance_score\": 43.0}, {\"user_id\": \"31b8afe5-8641-4d09-955e-ca97ee373f0b\", \"name\": \"Shane Lewis\", \"designation\": \"Web Developer\", \"completion_percentage\": 33.33333333333333, \"performance_score\": 44.0}, {\"user_id\": \"31d9429a-5936-4ff9-8553-ea9aaacdc1d6\", \"name\": \"Michael Ruiz\", \"designation\": \"Data Scientist\", \"completion_percentage\": 33.33333333333333, \"performance_score\": 39.0}, {\"user_id\": \"326fa305-42e0-4ae6-84b6-dadda8b37e96\", \"name\": \"Tammy Anderson\", \"designation\": \"Mobile Developer\", \"completion_percentage\": 20.0, \"performance_score\": 84.0}, {\"user_id\": \"48247a82-c81c-4e7f-a7ef-00d92a9c6104\", \"name\": \"Christina Zamora\", \"designation\": \"Mobile Developer\", \"completion_percentage\": 57.14285714285714, \"performance_score\": 51.0}, {\"user_id\": \"4a08884d-150e-4aab-8660-dd2ea51b0c26\", \"name\": \"Matthew Barnes\", \"designation\": \"Cybersecurity Specialist\", \"completion_percentage\": 75.0, \"performance_score\": 71.0}, {\"user_id\": \"4ab1758f-ee23-484d-99d8-463a17876377\", \"name\": \"Chad Miller DDS\", \"designation\": \"Web Developer\", \"completion_percentage\": 0.0, \"performance_score\": 80.0}, {\"user_id\": \"4bd9cb18-4034-4b47-9467-7041469f27b9\", \"name\": \"Wayne Rogers\", \"designation\": \"Cybersecurity Specialist\", \"completion_percentage\": 50.0, \"performance_score\": 74.0}, {\"user_id\": \"4ee040f5-4e74-452c-826b-1c432a5fcdba\", \"name\": \"Michael Nelson\", \"designation\": \"Cybersecurity Specialist\", \"completion_percentage\": 50.0, \"performance_score\": 83.0}, {\"user_id\": \"5b42e76b-9fff-413e-97fd-c54f689a0a2d\", \"name\": \"Lisa Richardson\", \"designation\": \"DevOps Engineer\", \"completion_percentage\": 33.33333333333333, \"performance_score\": 20.0}, {\"user_id\": \"5ddf51cd-9bde-4afe-9961-8ad455b80030\", \"name\": \"Michael Travis\", \"designation\": \"Software Tester\", \"completion_percentage\": 77.77777777777779, \"performance_score\": 98.0}, {\"user_id\": \"5ea948d4-bd49-40b3-a880-39bbf6f0212d\", \"name\": \"Kaitlyn Wall\", \"designation\": \"AI Specialist\", \"completion_percentage\": 30.681818181818183, \"performance_score\": 78.60000000000001}, {\"user_id\": \"603b5980-472e-4c94-aa8b-3c66f80bdefb\", \"name\": \"Rebecca Wilson\", \"designation\": \"Data Scientist\", \"completion_percentage\": 44.44444444444444, \"performance_score\": 32.0}, {\"user_id\": \"63a791f3-8ccd-4269-85f8-aab7e3c24238\", \"name\": \"Felicia Moore\", \"designation\": \"Web Developer\", \"completion_percentage\": 50.0, \"performance_score\": 56.00000000000001}, {\"user_id\": \"63fed41f-a04e-4d8d-8305-a94dcbf4ffce\", \"name\": \"Maria Bailey\", \"designation\": \"Mobile Developer\", \"completion_percentage\": 37.5, \"performance_score\": 49.0}, {\"user_id\": \"644aab86-cfc3-4e76-9024-15c043514d03\", \"name\": \"Dawn Gordon\", \"designation\": \"Software Tester\", \"completion_percentage\": 33.33333333333333, \"performance_score\": 75.0}, {\"user_id\": \"69e35946-d3fa-46d7-aafb-c886472f1c29\", \"name\": \"Christopher Wright\", \"designation\": \"AI Specialist\", \"completion_percentage\": 58.33333333333333, \"performance_score\": 45.5}, {\"user_id\": \"6c7d0eb6-cf70-47f0-a231-2ea13472a27d\", \"name\": \"Crystal Doyle\", \"designation\": \"Data Engineer\", \"completion_percentage\": 28.57142857142857, \"performance_score\": 88.0}, {\"user_id\": \"6fac127f-ea59-48d5-8b5f-2551cacbf07a\", \"name\": \"Joshua Walker\", \"designation\": \"Software Tester\", \"completion_percentage\": 37.5, \"performance_score\": 40.0}, {\"user_id\": \"7082f1cf-1c65-4554-8392-87d84dc74209\", \"name\": \"Ian Nelson\", \"designation\": \"Cybersecurity Specialist\", \"completion_percentage\": 25.0, \"performance_score\": 60.0}, {\"user_id\": \"74142ada-0596-467d-8f3c-4c81a19368ab\", \"name\": \"Sandra Daniel\", \"designation\": \"Data Engineer\", \"completion_percentage\": 61.9047619047619, \"performance_score\": 69.3}, {\"user_id\": \"769946e5-25bd-4af4-bc79-0fe0c030d392\", \"name\": \"Alicia Taylor\", \"designation\": \"Cybersecurity Specialist\", \"completion_percentage\": 37.5, \"performance_score\": 62.0}, {\"user_id\": \"80c9bae6-95a5-43fc-8ca6-bcd1d53b52a3\", \"name\": \"William Robinson\", \"designation\": \"Cybersecurity Specialist\", \"completion_percentage\": 100.0, \"performance_score\": 50.0}, {\"user_id\": \"816abb4a-9b8d-4502-adc5-60f071eaee83\", \"name\": \"Susan Ward\", \"designation\": \"Cybersecurity Specialist\", \"completion_percentage\": 37.5, \"performance_score\": 32.0}, {\"user_id\": \"821775fe-ca53-489e-aa66-6721898b6e4a\", \"name\": \"Omar Smith\", \"designation\": \"Data Scientist\", \"completion_percentage\": 69.23076923076923, \"performance_score\": 68.0}, {\"user_id\": \"835d7fe7-3085-49ab-b2be-0add4c08d386\", \"name\": \"Marc Guerrero\", \"designation\": \"AI Specialist\", \"completion_percentage\": 50.0, \"performance_score\": 44.0}, {\"user_id\": \"83b79cb1-5db7-4a0f-ac2a-569f4ef5c4cb\", \"name\": \"Sherri Spence\", \"designation\": \"Software Tester\", \"completion_percentage\": 14.285714285714285, \"performance_score\": 84.0}, {\"user_id\": \"848c1cfb-848b-4dcf-8a14-f9c5a04520e4\", \"name\": \"Brett Owen\", \"designation\": \"AI Specialist\", \"completion_percentage\": 80.0, \"performance_score\": 26.0}, {\"user_id\": \"8769cb06-8253-4262-bad1-8ebcff93b99e\", \"name\": \"Frederick Rice\", \"designation\": \"AI Specialist\", \"completion_percentage\": 66.66666666666666, \"performance_score\": 31.0}, {\"user_id\": \"87bcfb16-4d03-44fc-966f-6a3682ac11d2\", \"name\": \"Autumn Rice\", \"designation\": \"AI Specialist\", \"completion_percentage\": 20.0, \"performance_score\": 35.0}, {\"user_id\": \"96392b1e-2dfb-47ad-a524-8d589bf474c4\", \"name\": \"Mr. Richard Salazar\", \"designation\": \"Data Engineer\", \"completion_percentage\": 71.42857142857143, \"performance_score\": 63.0}, {\"user_id\": \"96d79700-8fa5-4092-a3cc-cbf34f530452\", \"name\": \"Kirk Payne\", \"designation\": \"Data Engineer\", \"completion_percentage\": 53.84615384615385, \"performance_score\": 98.0}, {\"user_id\": \"984bac18-1b2c-4cb3-9b98-e15f4b0c3c7e\", \"name\": \"Tammy Castillo\", \"designation\": \"Mobile Developer\", \"completion_percentage\": 38.46153846153847, \"performance_score\": 36.0}, {\"user_id\": \"985f366a-3289-431c-beda-ffbb912d7016\", \"name\": \"Lisa Marquez\", \"designation\": \"Data Scientist\", \"completion_percentage\": 70.0, \"performance_score\": 67.5}, {\"user_id\": \"9fa8af1b-97b3-4517-a6ab-02f112e50671\", \"name\": \"April Underwood\", \"designation\": \"AI Specialist\", \"completion_percentage\": 48.484848484848484, \"performance_score\": 82.0}, {\"user_id\": \"a7c421b1-de32-40bc-8b2e-9f0efef4d7c6\", \"name\": \"Maria Hunter\", \"designation\": \"Mobile Developer\", \"completion_percentage\": 54.54545454545454, \"performance_score\": 65.0}, {\"user_id\": \"a904b0a7-38b0-4991-8e1f-e9b96df16c7e\", \"name\": \"Angela Cruz\", \"designation\": \"Data Engineer\", \"completion_percentage\": 66.66666666666666, \"performance_score\": 37.0}, {\"user_id\": \"aa9a89b8-3bc9-4935-8e84-d592c8487ffb\", \"name\": \"Justin Bender\", \"designation\": \"UI/UX Designer\", \"completion_percentage\": 52.11640211640212, \"performance_score\": 56.27272727272727}, {\"user_id\": \"ae775e89-bb80-425a-b52d-788c180890d9\", \"name\": \"Taylor Sandoval\", \"designation\": \"Web Developer\", \"completion_percentage\": 60.0, \"performance_score\": 74.0}, {\"user_id\": \"b23fb85f-8715-4cd0-8e03-6844b7e4df03\", \"name\": \"Nathaniel Price\", \"designation\": \"AI Specialist\", \"completion_percentage\": 77.77777777777779, \"performance_score\": 22.0}, {\"user_id\": \"b3a28440-12f4-4d6b-80dc-e60f91dca2f4\", \"name\": \"Christy Jordan\", \"designation\": \"AI Specialist\", \"completion_percentage\": 70.10101010101009, \"performance_score\": 71.0909090909091}, {\"user_id\": \"b7154f0a-c47f-4f45-894d-4208cac1e1f8\", \"name\": \"Anthony Hunter\", \"designation\": \"UI/UX Designer\", \"completion_percentage\": 50.0, \"performance_score\": 63.0}, {\"user_id\": \"b799be0a-4072-45d5-a159-80edc82c3f69\", \"name\": \"Travis Davis\", \"designation\": \"UI/UX Designer\", \"completion_percentage\": 28.57142857142857, \"performance_score\": 50.0}, {\"user_id\": \"b8320aaf-af61-4f59-a6f4-ed314015fac9\", \"name\": \"Christopher Jones\", \"designation\": \"Web Developer\", \"completion_percentage\": 25.0, \"performance_score\": 85.0}, {\"user_id\": \"b857e691-da88-48fa-a89e-88b2b1ccdcb5\", \"name\": \"Eric Stevenson\", \"designation\": \"Software Tester\", \"completion_percentage\": 22.22222222222222, \"performance_score\": 20.0}, {\"user_id\": \"b8b39324-37e7-4f29-b067-7754683a7d6e\", \"name\": \"Pamela Pruitt\", \"designation\": \"Data Scientist\", \"completion_percentage\": 71.42857142857143, \"performance_score\": 92.0}, {\"user_id\": \"bb38036c-2d7c-4716-8a6e-ad23282af04e\", \"name\": \"Steven Williams\", \"designation\": \"DevOps Engineer\", \"completion_percentage\": 58.33333333333333, \"performance_score\": 69.63636363636364}, {\"user_id\": \"bc47e1a9-6e5c-4136-b54a-cf5a49585d27\", \"name\": \"Alicia Fischer\", \"designation\": \"Data Scientist\", \"completion_percentage\": 66.66666666666666, \"performance_score\": 29.0}, {\"user_id\": \"bee78e4b-a9d2-4615-88a8-1e1f96183592\", \"name\": \"Cindy Mcknight\", \"designation\": \"Data Scientist\", \"completion_percentage\": 50.0, \"performance_score\": 33.0}, {\"user_id\": \"bf410702-2bce-4f38-9762-5b20081a4620\", \"name\": \"Gary Rice\", \"designation\": \"UI/UX Designer\", \"completion_percentage\": 56.94444444444445, \"performance_score\": 68.75}, {\"user_id\": \"c47e7751-8061-434e-bf84-972de2f8a2dd\", \"name\": \"Ashley Chapman\", \"designation\": \"AI Specialist\", \"completion_percentage\": 62.5, \"performance_score\": 83.0}, {\"user_id\": \"c58e2291-ce5b-4836-899e-199b661eadea\", \"name\": \"Nicholas Dickerson\", \"designation\": \"AI Specialist\", \"completion_percentage\": 66.66666666666666, \"performance_score\": 93.0}, {\"user_id\": \"c6599665-e128-4aa2-8751-a6fabab8b7b4\", \"name\": \"Julie Gamble\", \"designation\": \"AI Specialist\", \"completion_percentage\": 50.0, \"performance_score\": 30.0}, {\"user_id\": \"cc3a213f-ba7e-4521-b84b-9239a8794f3e\", \"name\": \"Christine Anderson\", \"designation\": \"Mobile Developer\", \"completion_percentage\": 83.33333333333333, \"performance_score\": 45.63636363636363}, {\"user_id\": \"ce4c5434-7f25-4dcf-ac79-6d16fef13f57\", \"name\": \"Steve Moran\", \"designation\": \"AI Specialist\", \"completion_percentage\": 40.0, \"performance_score\": 68.0}, {\"user_id\": \"d7350f5e-fbe0-4b21-bd91-0d2cbb53187b\", \"name\": \"Jordan Wilson\", \"designation\": \"Data Engineer\", \"completion_percentage\": 50.0, \"performance_score\": 47.0}, {\"user_id\": \"d887ae6f-308e-49c1-b0c4-ae84b1f8b1fe\", \"name\": \"Misty Stein\", \"designation\": \"Data Scientist\", \"completion_percentage\": 40.0, \"performance_score\": 64.0}, {\"user_id\": \"e16cf641-f55b-4176-bfd6-4fc02ca38d15\", \"name\": \"Stanley Weiss\", \"designation\": \"DevOps Engineer\", \"completion_percentage\": 0.0, \"performance_score\": 36.0}, {\"user_id\": \"e40bba8c-ae9b-4034-8a3b-d51b66db29f0\", \"name\": \"Robert Garcia\", \"designation\": \"DevOps Engineer\", \"completion_percentage\": 42.2077922077922, \"performance_score\": 66.28125}, {\"user_id\": \"e43892ed-3d64-4422-9563-f2983442a01d\", \"name\": \"Donald Austin\", \"designation\": \"Data Engineer\", \"completion_percentage\": 50.0, \"performance_score\": 90.0}, {\"user_id\": \"e4fbfc98-2080-45d0-9f13-40b81f4b47f2\", \"name\": \"Kathryn Brown\", \"designation\": \"Mobile Developer\", \"completion_percentage\": 63.33333333333333, \"performance_score\": 48.5}, {\"user_id\": \"ebd98b4c-9648-40ef-898a-c65d9f995270\", \"name\": \"Billy Ray\", \"designation\": \"DevOps Engineer\", \"completion_percentage\": 33.33333333333333, \"performance_score\": 23.0}, {\"user_id\": \"eda585ac-feeb-456e-8f43-907fdcdb2d6f\", \"name\": \"Anthony Bell\", \"designation\": \"Data Engineer\", \"completion_percentage\": 33.33333333333333, \"performance_score\": 74.0}, {\"user_id\": \"f09fd128-0384-4db9-bef6-e614e6220549\", \"name\": \"Peter Smith\", \"designation\": \"Data Engineer\", \"completion_percentage\": 75.0, \"performance_score\": 70.0}, {\"user_id\": \"f4242f53-c016-4138-b52f-78522004ad44\", \"name\": \"Austin Simmons\", \"designation\": \"Cybersecurity Specialist\", \"completion_percentage\": 55.55555555555556, \"performance_score\": 92.0}, {\"user_id\": \"f5818c93-e8ca-4df9-a16f-08d1024d9111\", \"name\": \"Kevin Dudley\", \"designation\": \"UI/UX Designer\", \"completion_percentage\": 27.777777777777775, \"performance_score\": 94.75}, {\"user_id\": \"f7ba1d77-7fa7-41c7-9915-bbdc1a0f0f89\", \"name\": \"Billy Prince\", \"designation\": \"UI/UX Designer\", \"completion_percentage\": 45.0, \"performance_score\": 59.54999999999999}]}}, {\"mode\": \"vega-lite\"});\n",
       "</script>"
      ],
      "text/plain": [
       "alt.Chart(...)"
      ]
     },
     "metadata": {},
     "output_type": "display_data"
    }
   ],
   "source": [
    "performance_summary = employee_performance.groupby(['user_id', 'name', 'designation']).agg({\n",
    "    'completion_percentage': 'mean',\n",
    "    'performance_score': 'mean'\n",
    "}).reset_index()\n",
    "\n",
    "# Create an interactive scatter plot\n",
    "chart1 = alt.Chart(performance_summary).mark_circle(size=60).encode(\n",
    "    x=alt.X('completion_percentage:Q', title='Average Completion Percentage (%)'),\n",
    "    y=alt.Y('performance_score:Q', title='Average Performance Score'),\n",
    "    tooltip=['completion_percentage', 'performance_score']\n",
    ").properties(\n",
    "    title='Course Completion Percentage vs. Performance Score',\n",
    "    width=600,\n",
    "    height=400\n",
    ").interactive()\n",
    "\n",
    "chart1.show()"
   ]
  },
  {
   "cell_type": "markdown",
   "metadata": {},
   "source": [
    "Hypothesis: Courses with longer durations lead to greater performance score improvements."
   ]
  },
  {
   "cell_type": "code",
   "execution_count": 6,
   "metadata": {},
   "outputs": [
    {
     "data": {
      "text/html": [
       "\n",
       "<style>\n",
       "  #altair-viz-40b175cb05404bdf8f253fb566d9a431.vega-embed {\n",
       "    width: 100%;\n",
       "    display: flex;\n",
       "  }\n",
       "\n",
       "  #altair-viz-40b175cb05404bdf8f253fb566d9a431.vega-embed details,\n",
       "  #altair-viz-40b175cb05404bdf8f253fb566d9a431.vega-embed details summary {\n",
       "    position: relative;\n",
       "  }\n",
       "</style>\n",
       "<div id=\"altair-viz-40b175cb05404bdf8f253fb566d9a431\"></div>\n",
       "<script type=\"text/javascript\">\n",
       "  var VEGA_DEBUG = (typeof VEGA_DEBUG == \"undefined\") ? {} : VEGA_DEBUG;\n",
       "  (function(spec, embedOpt){\n",
       "    let outputDiv = document.currentScript.previousElementSibling;\n",
       "    if (outputDiv.id !== \"altair-viz-40b175cb05404bdf8f253fb566d9a431\") {\n",
       "      outputDiv = document.getElementById(\"altair-viz-40b175cb05404bdf8f253fb566d9a431\");\n",
       "    }\n",
       "    const paths = {\n",
       "      \"vega\": \"https://cdn.jsdelivr.net/npm/vega@5?noext\",\n",
       "      \"vega-lib\": \"https://cdn.jsdelivr.net/npm/vega-lib?noext\",\n",
       "      \"vega-lite\": \"https://cdn.jsdelivr.net/npm/vega-lite@5.20.1?noext\",\n",
       "      \"vega-embed\": \"https://cdn.jsdelivr.net/npm/vega-embed@6?noext\",\n",
       "    };\n",
       "\n",
       "    function maybeLoadScript(lib, version) {\n",
       "      var key = `${lib.replace(\"-\", \"\")}_version`;\n",
       "      return (VEGA_DEBUG[key] == version) ?\n",
       "        Promise.resolve(paths[lib]) :\n",
       "        new Promise(function(resolve, reject) {\n",
       "          var s = document.createElement('script');\n",
       "          document.getElementsByTagName(\"head\")[0].appendChild(s);\n",
       "          s.async = true;\n",
       "          s.onload = () => {\n",
       "            VEGA_DEBUG[key] = version;\n",
       "            return resolve(paths[lib]);\n",
       "          };\n",
       "          s.onerror = () => reject(`Error loading script: ${paths[lib]}`);\n",
       "          s.src = paths[lib];\n",
       "        });\n",
       "    }\n",
       "\n",
       "    function showError(err) {\n",
       "      outputDiv.innerHTML = `<div class=\"error\" style=\"color:red;\">${err}</div>`;\n",
       "      throw err;\n",
       "    }\n",
       "\n",
       "    function displayChart(vegaEmbed) {\n",
       "      vegaEmbed(outputDiv, spec, embedOpt)\n",
       "        .catch(err => showError(`Javascript Error: ${err.message}<br>This usually means there's a typo in your chart specification. See the javascript console for the full traceback.`));\n",
       "    }\n",
       "\n",
       "    if(typeof define === \"function\" && define.amd) {\n",
       "      requirejs.config({paths});\n",
       "      require([\"vega-embed\"], displayChart, err => showError(`Error loading script: ${err.message}`));\n",
       "    } else {\n",
       "      maybeLoadScript(\"vega\", \"5\")\n",
       "        .then(() => maybeLoadScript(\"vega-lite\", \"5.20.1\"))\n",
       "        .then(() => maybeLoadScript(\"vega-embed\", \"6\"))\n",
       "        .catch(showError)\n",
       "        .then(() => displayChart(vegaEmbed));\n",
       "    }\n",
       "  })({\"config\": {\"view\": {\"continuousWidth\": 300, \"continuousHeight\": 300}}, \"data\": {\"name\": \"data-5069c4c236a18ed151b60fb968deb754\"}, \"mark\": {\"type\": \"circle\", \"size\": 60}, \"encoding\": {\"tooltip\": [{\"field\": \"course_duration\", \"type\": \"quantitative\"}, {\"field\": \"performance_score\", \"type\": \"quantitative\"}], \"x\": {\"field\": \"course_duration\", \"title\": \"Course Duration (Minutes)\", \"type\": \"quantitative\"}, \"y\": {\"field\": \"performance_score\", \"title\": \"Average Performance Score\", \"type\": \"quantitative\"}}, \"height\": 400, \"params\": [{\"name\": \"param_2\", \"select\": {\"type\": \"interval\", \"encodings\": [\"x\", \"y\"]}, \"bind\": \"scales\"}], \"title\": \"Course Duration vs. Performance Score\", \"width\": 600, \"$schema\": \"https://vega.github.io/schema/vega-lite/v5.20.1.json\", \"datasets\": {\"data-5069c4c236a18ed151b60fb968deb754\": [{\"course_duration\": 56.0, \"performance_score\": 69.5}, {\"course_duration\": 57.0, \"performance_score\": 76.671875}, {\"course_duration\": 65.0, \"performance_score\": 77.5}, {\"course_duration\": 68.0, \"performance_score\": 68.5}, {\"course_duration\": 76.0, \"performance_score\": 59.55}, {\"course_duration\": 80.0, \"performance_score\": 59.0875}, {\"course_duration\": 87.0, \"performance_score\": 68.140625}, {\"course_duration\": 102.0, \"performance_score\": 71.0}, {\"course_duration\": 103.0, \"performance_score\": 62.85}, {\"course_duration\": 104.0, \"performance_score\": 54.0}, {\"course_duration\": 108.0, \"performance_score\": 44.5}, {\"course_duration\": 118.0, \"performance_score\": 56.65909090909091}, {\"course_duration\": 119.0, \"performance_score\": 71.9}, {\"course_duration\": 121.0, \"performance_score\": 69.58333333333333}, {\"course_duration\": 127.0, \"performance_score\": 53.17045454545454}, {\"course_duration\": 132.0, \"performance_score\": 67.06079545454546}, {\"course_duration\": 133.0, \"performance_score\": 47.42424242424243}, {\"course_duration\": 135.0, \"performance_score\": 56.9453125}, {\"course_duration\": 137.0, \"performance_score\": 50.0}, {\"course_duration\": 140.0, \"performance_score\": 69.25}, {\"course_duration\": 148.0, \"performance_score\": 69.3}, {\"course_duration\": 155.0, \"performance_score\": 52.89772727272727}, {\"course_duration\": 161.0, \"performance_score\": 48.88181818181818}, {\"course_duration\": 168.0, \"performance_score\": 62.5487012987013}, {\"course_duration\": 175.0, \"performance_score\": 60.532467532467535}]}}, {\"mode\": \"vega-lite\"});\n",
       "</script>"
      ],
      "text/plain": [
       "alt.Chart(...)"
      ]
     },
     "metadata": {},
     "output_type": "display_data"
    }
   ],
   "source": [
    "# Aggregate by course duration\n",
    "duration_performance = employee_performance.groupby('course_duration').agg({\n",
    "    'performance_score': 'mean'\n",
    "}).reset_index()\n",
    "\n",
    "# Create scatter plot for course duration vs performance score\n",
    "chart2 = alt.Chart(duration_performance).mark_circle(size=60).encode(\n",
    "    x=alt.X('course_duration:Q', title='Course Duration (Minutes)'),\n",
    "    y=alt.Y('performance_score:Q', title='Average Performance Score'),\n",
    "    tooltip=['course_duration', 'performance_score']\n",
    ").properties(\n",
    "    title='Course Duration vs. Performance Score',\n",
    "    width=600,\n",
    "    height=400\n",
    ").interactive()\n",
    "\n",
    "chart2.show()\n"
   ]
  },
  {
   "cell_type": "markdown",
   "metadata": {},
   "source": [
    "Hypothesis: There is a positive relationship between the number of modules completed in a course and the course score achieved by the employee."
   ]
  },
  {
   "cell_type": "code",
   "execution_count": 7,
   "metadata": {},
   "outputs": [
    {
     "data": {
      "text/html": [
       "\n",
       "<style>\n",
       "  #altair-viz-5741c802b94d44f598425f5eb14e57d6.vega-embed {\n",
       "    width: 100%;\n",
       "    display: flex;\n",
       "  }\n",
       "\n",
       "  #altair-viz-5741c802b94d44f598425f5eb14e57d6.vega-embed details,\n",
       "  #altair-viz-5741c802b94d44f598425f5eb14e57d6.vega-embed details summary {\n",
       "    position: relative;\n",
       "  }\n",
       "</style>\n",
       "<div id=\"altair-viz-5741c802b94d44f598425f5eb14e57d6\"></div>\n",
       "<script type=\"text/javascript\">\n",
       "  var VEGA_DEBUG = (typeof VEGA_DEBUG == \"undefined\") ? {} : VEGA_DEBUG;\n",
       "  (function(spec, embedOpt){\n",
       "    let outputDiv = document.currentScript.previousElementSibling;\n",
       "    if (outputDiv.id !== \"altair-viz-5741c802b94d44f598425f5eb14e57d6\") {\n",
       "      outputDiv = document.getElementById(\"altair-viz-5741c802b94d44f598425f5eb14e57d6\");\n",
       "    }\n",
       "    const paths = {\n",
       "      \"vega\": \"https://cdn.jsdelivr.net/npm/vega@5?noext\",\n",
       "      \"vega-lib\": \"https://cdn.jsdelivr.net/npm/vega-lib?noext\",\n",
       "      \"vega-lite\": \"https://cdn.jsdelivr.net/npm/vega-lite@5.20.1?noext\",\n",
       "      \"vega-embed\": \"https://cdn.jsdelivr.net/npm/vega-embed@6?noext\",\n",
       "    };\n",
       "\n",
       "    function maybeLoadScript(lib, version) {\n",
       "      var key = `${lib.replace(\"-\", \"\")}_version`;\n",
       "      return (VEGA_DEBUG[key] == version) ?\n",
       "        Promise.resolve(paths[lib]) :\n",
       "        new Promise(function(resolve, reject) {\n",
       "          var s = document.createElement('script');\n",
       "          document.getElementsByTagName(\"head\")[0].appendChild(s);\n",
       "          s.async = true;\n",
       "          s.onload = () => {\n",
       "            VEGA_DEBUG[key] = version;\n",
       "            return resolve(paths[lib]);\n",
       "          };\n",
       "          s.onerror = () => reject(`Error loading script: ${paths[lib]}`);\n",
       "          s.src = paths[lib];\n",
       "        });\n",
       "    }\n",
       "\n",
       "    function showError(err) {\n",
       "      outputDiv.innerHTML = `<div class=\"error\" style=\"color:red;\">${err}</div>`;\n",
       "      throw err;\n",
       "    }\n",
       "\n",
       "    function displayChart(vegaEmbed) {\n",
       "      vegaEmbed(outputDiv, spec, embedOpt)\n",
       "        .catch(err => showError(`Javascript Error: ${err.message}<br>This usually means there's a typo in your chart specification. See the javascript console for the full traceback.`));\n",
       "    }\n",
       "\n",
       "    if(typeof define === \"function\" && define.amd) {\n",
       "      requirejs.config({paths});\n",
       "      require([\"vega-embed\"], displayChart, err => showError(`Error loading script: ${err.message}`));\n",
       "    } else {\n",
       "      maybeLoadScript(\"vega\", \"5\")\n",
       "        .then(() => maybeLoadScript(\"vega-lite\", \"5.20.1\"))\n",
       "        .then(() => maybeLoadScript(\"vega-embed\", \"6\"))\n",
       "        .catch(showError)\n",
       "        .then(() => displayChart(vegaEmbed));\n",
       "    }\n",
       "  })({\"config\": {\"view\": {\"continuousWidth\": 300, \"continuousHeight\": 300}}, \"data\": {\"name\": \"data-4f1eb585121858ecabc36bc6b9684a19\"}, \"mark\": {\"type\": \"circle\", \"size\": 60}, \"encoding\": {\"tooltip\": [{\"field\": \"modules_completed\", \"type\": \"quantitative\"}, {\"field\": \"course_score\", \"type\": \"quantitative\"}], \"x\": {\"field\": \"modules_completed\", \"title\": \"Modules Completed\", \"type\": \"quantitative\"}, \"y\": {\"field\": \"course_score\", \"title\": \"Average Course Score\", \"type\": \"quantitative\"}}, \"height\": 400, \"params\": [{\"name\": \"param_3\", \"select\": {\"type\": \"interval\", \"encodings\": [\"x\", \"y\"]}, \"bind\": \"scales\"}], \"title\": \"Modules Completed vs. Course Score\", \"width\": 600, \"$schema\": \"https://vega.github.io/schema/vega-lite/v5.20.1.json\", \"datasets\": {\"data-4f1eb585121858ecabc36bc6b9684a19\": [{\"modules_completed\": 0.0, \"course_score\": 58.0}, {\"modules_completed\": 1.0, \"course_score\": 64.63636363636364}, {\"modules_completed\": 2.0, \"course_score\": 65.36363636363636}, {\"modules_completed\": 3.0, \"course_score\": 56.31578947368421}, {\"modules_completed\": 4.0, \"course_score\": 55.04761904761905}, {\"modules_completed\": 5.0, \"course_score\": 68.16666666666667}, {\"modules_completed\": 6.0, \"course_score\": 64.16666666666667}, {\"modules_completed\": 7.0, \"course_score\": 74.6}, {\"modules_completed\": 9.0, \"course_score\": 68.0}]}}, {\"mode\": \"vega-lite\"});\n",
       "</script>"
      ],
      "text/plain": [
       "alt.Chart(...)"
      ]
     },
     "metadata": {},
     "output_type": "display_data"
    }
   ],
   "source": [
    "# Aggregate data based on modules completed\n",
    "modules_performance = employee_performance.groupby('modules_completed').agg({\n",
    "    'course_score': 'mean'\n",
    "}).reset_index()\n",
    "\n",
    "# Create scatter plot for modules completed vs course score\n",
    "chart4 = alt.Chart(modules_performance).mark_circle(size=60).encode(\n",
    "    x=alt.X('modules_completed:Q', title='Modules Completed'),\n",
    "    y=alt.Y('course_score:Q', title='Average Course Score'),\n",
    "    tooltip=['modules_completed', 'course_score']\n",
    ").properties(\n",
    "    title='Modules Completed vs. Course Score',\n",
    "    width=600,\n",
    "    height=400\n",
    ").interactive()\n",
    "\n",
    "chart4.show()\n"
   ]
  },
  {
   "cell_type": "code",
   "execution_count": null,
   "metadata": {},
   "outputs": [],
   "source": []
  },
  {
   "cell_type": "code",
   "execution_count": 8,
   "metadata": {},
   "outputs": [
    {
     "data": {
      "text/html": [
       "\n",
       "<style>\n",
       "  #altair-viz-9b3387889e7740e29860f120605c5d3f.vega-embed {\n",
       "    width: 100%;\n",
       "    display: flex;\n",
       "  }\n",
       "\n",
       "  #altair-viz-9b3387889e7740e29860f120605c5d3f.vega-embed details,\n",
       "  #altair-viz-9b3387889e7740e29860f120605c5d3f.vega-embed details summary {\n",
       "    position: relative;\n",
       "  }\n",
       "</style>\n",
       "<div id=\"altair-viz-9b3387889e7740e29860f120605c5d3f\"></div>\n",
       "<script type=\"text/javascript\">\n",
       "  var VEGA_DEBUG = (typeof VEGA_DEBUG == \"undefined\") ? {} : VEGA_DEBUG;\n",
       "  (function(spec, embedOpt){\n",
       "    let outputDiv = document.currentScript.previousElementSibling;\n",
       "    if (outputDiv.id !== \"altair-viz-9b3387889e7740e29860f120605c5d3f\") {\n",
       "      outputDiv = document.getElementById(\"altair-viz-9b3387889e7740e29860f120605c5d3f\");\n",
       "    }\n",
       "    const paths = {\n",
       "      \"vega\": \"https://cdn.jsdelivr.net/npm/vega@5?noext\",\n",
       "      \"vega-lib\": \"https://cdn.jsdelivr.net/npm/vega-lib?noext\",\n",
       "      \"vega-lite\": \"https://cdn.jsdelivr.net/npm/vega-lite@5.20.1?noext\",\n",
       "      \"vega-embed\": \"https://cdn.jsdelivr.net/npm/vega-embed@6?noext\",\n",
       "    };\n",
       "\n",
       "    function maybeLoadScript(lib, version) {\n",
       "      var key = `${lib.replace(\"-\", \"\")}_version`;\n",
       "      return (VEGA_DEBUG[key] == version) ?\n",
       "        Promise.resolve(paths[lib]) :\n",
       "        new Promise(function(resolve, reject) {\n",
       "          var s = document.createElement('script');\n",
       "          document.getElementsByTagName(\"head\")[0].appendChild(s);\n",
       "          s.async = true;\n",
       "          s.onload = () => {\n",
       "            VEGA_DEBUG[key] = version;\n",
       "            return resolve(paths[lib]);\n",
       "          };\n",
       "          s.onerror = () => reject(`Error loading script: ${paths[lib]}`);\n",
       "          s.src = paths[lib];\n",
       "        });\n",
       "    }\n",
       "\n",
       "    function showError(err) {\n",
       "      outputDiv.innerHTML = `<div class=\"error\" style=\"color:red;\">${err}</div>`;\n",
       "      throw err;\n",
       "    }\n",
       "\n",
       "    function displayChart(vegaEmbed) {\n",
       "      vegaEmbed(outputDiv, spec, embedOpt)\n",
       "        .catch(err => showError(`Javascript Error: ${err.message}<br>This usually means there's a typo in your chart specification. See the javascript console for the full traceback.`));\n",
       "    }\n",
       "\n",
       "    if(typeof define === \"function\" && define.amd) {\n",
       "      requirejs.config({paths});\n",
       "      require([\"vega-embed\"], displayChart, err => showError(`Error loading script: ${err.message}`));\n",
       "    } else {\n",
       "      maybeLoadScript(\"vega\", \"5\")\n",
       "        .then(() => maybeLoadScript(\"vega-lite\", \"5.20.1\"))\n",
       "        .then(() => maybeLoadScript(\"vega-embed\", \"6\"))\n",
       "        .catch(showError)\n",
       "        .then(() => displayChart(vegaEmbed));\n",
       "    }\n",
       "  })({\"config\": {\"view\": {\"continuousWidth\": 300, \"continuousHeight\": 300}}, \"data\": {\"name\": \"data-438260e409b1077c85f96286912a5fa0\"}, \"mark\": {\"type\": \"bar\"}, \"encoding\": {\"color\": {\"field\": \"course_tag_grouped\", \"scale\": {\"domain\": [\"Above 60\", \"Below 60\"], \"range\": [\"#FFA500\", \"#FFDDC1\"]}, \"title\": \"Tag Group\", \"type\": \"nominal\"}, \"tooltip\": [{\"field\": \"course_tag\", \"type\": \"nominal\"}, {\"field\": \"course_score\", \"type\": \"quantitative\"}], \"x\": {\"field\": \"course_tag\", \"sort\": \"-y\", \"title\": \"Course Tag\", \"type\": \"ordinal\"}, \"y\": {\"field\": \"course_score\", \"title\": \"Average Course Score\", \"type\": \"quantitative\"}}, \"height\": 400, \"params\": [{\"name\": \"param_4\", \"select\": {\"type\": \"interval\", \"encodings\": [\"x\", \"y\"]}, \"bind\": \"scales\"}], \"title\": \"Impact of Course Tags on Course Scores (Above and Below 60)\", \"width\": 600, \"$schema\": \"https://vega.github.io/schema/vega-lite/v5.20.1.json\", \"datasets\": {\"data-438260e409b1077c85f96286912a5fa0\": [{\"course_tag\": \"Cybersecurity\", \"course_score\": 58.526315789473685, \"course_tag_grouped\": \"Below 60\"}, {\"course_tag\": \"Data Engineering\", \"course_score\": 65.7, \"course_tag_grouped\": \"Above 60\"}, {\"course_tag\": \"Data Science\", \"course_score\": 63.75, \"course_tag_grouped\": \"Above 60\"}, {\"course_tag\": \"DevOps\", \"course_score\": 53.666666666666664, \"course_tag_grouped\": \"Below 60\"}, {\"course_tag\": \"Generative AI\", \"course_score\": 82.66666666666667, \"course_tag_grouped\": \"Above 60\"}, {\"course_tag\": \"Mobile Development\", \"course_score\": 50.333333333333336, \"course_tag_grouped\": \"Below 60\"}, {\"course_tag\": \"Software Testing\", \"course_score\": 67.28571428571429, \"course_tag_grouped\": \"Above 60\"}, {\"course_tag\": \"UI/UX Design\", \"course_score\": 60.8235294117647, \"course_tag_grouped\": \"Above 60\"}, {\"course_tag\": \"Web Development\", \"course_score\": 68.4, \"course_tag_grouped\": \"Above 60\"}]}}, {\"mode\": \"vega-lite\"});\n",
       "</script>"
      ],
      "text/plain": [
       "alt.Chart(...)"
      ]
     },
     "metadata": {},
     "output_type": "display_data"
    }
   ],
   "source": [
    "employee_performance = pd.read_csv('../data_engineering/data_warehouse/report/employee_performance_kpi.csv')\n",
    "\n",
    "# Aggregate data based on course tags and course scores\n",
    "tag_score_summary = employee_performance.groupby('course_tag').agg({\n",
    "    'course_score': 'mean'\n",
    "}).reset_index()\n",
    "\n",
    "# Define the threshold value for course score\n",
    "threshold_value = 60\n",
    "\n",
    "# Create a new column to identify whether the course score is above or below the threshold\n",
    "tag_score_summary['course_tag_grouped'] = tag_score_summary['course_score'].apply(\n",
    "    lambda score: 'Above 60' if score >= threshold_value else 'Below 60'\n",
    ")\n",
    "\n",
    "# Create a bar chart showing the average course score for each course tag\n",
    "chart = alt.Chart(tag_score_summary).mark_bar().encode(\n",
    "    x=alt.X('course_tag:O', title='Course Tag', sort='-y'),\n",
    "    y=alt.Y('course_score:Q', title='Average Course Score'),\n",
    "    color=alt.Color('course_tag_grouped:N', \n",
    "                    scale=alt.Scale(domain=['Above 60', 'Below 60'], \n",
    "                                    range=['#FFA500', '#FFDDC1']),\n",
    "                    title='Tag Group'),\n",
    "    tooltip=['course_tag', 'course_score']\n",
    ").properties(\n",
    "    title='Impact of Course Tags on Course Scores (Above and Below 60)',\n",
    "    width=600,\n",
    "    height=400\n",
    ").interactive()\n",
    "\n",
    "# Show the chart\n",
    "chart.show()"
   ]
  }
 ],
 "metadata": {
  "kernelspec": {
   "display_name": "Python 3",
   "language": "python",
   "name": "python3"
  },
  "language_info": {
   "codemirror_mode": {
    "name": "ipython",
    "version": 3
   },
   "file_extension": ".py",
   "mimetype": "text/x-python",
   "name": "python",
   "nbconvert_exporter": "python",
   "pygments_lexer": "ipython3",
   "version": "3.12.5"
  }
 },
 "nbformat": 4,
 "nbformat_minor": 2
}
