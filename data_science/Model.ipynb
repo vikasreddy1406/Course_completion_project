{
 "cells": [
  {
   "cell_type": "code",
   "execution_count": 5,
   "metadata": {},
   "outputs": [],
   "source": [
    "import random\n",
    "import pandas as pd\n",
    "import numpy as np\n",
    "from scipy.sparse import csr_matrix\n",
    "from sklearn.neighbors import NearestNeighbors\n",
    "from sklearn.metrics import mean_squared_error\n",
    "from sklearn.preprocessing import LabelEncoder\n",
    "from sklearn.metrics import mean_squared_error, accuracy_score\n",
    "df = pd.read_csv('../data_engineering/data_warehouse/report/employee_performance_kpi.csv')\n"
   ]
  },
  {
   "cell_type": "code",
   "execution_count": 6,
   "metadata": {},
   "outputs": [
    {
     "data": {
      "text/plain": [
       "Index(['user_id', 'name', 'designation', 'course_id', 'course_title',\n",
       "       'course_tag', 'course_duration', 'modules_completed', 'total_modules',\n",
       "       'completion_percentage', 'course_score', 'performance_score'],\n",
       "      dtype='object')"
      ]
     },
     "execution_count": 6,
     "metadata": {},
     "output_type": "execute_result"
    }
   ],
   "source": [
    "df.columns"
   ]
  },
  {
   "cell_type": "markdown",
   "metadata": {},
   "source": [
    "FEATURE ENGINEERING AND NORMALIZING"
   ]
  },
  {
   "cell_type": "code",
   "execution_count": 7,
   "metadata": {},
   "outputs": [],
   "source": [
    "label_encoder = LabelEncoder()\n",
    "df['course_tag_encoded'] = label_encoder.fit_transform(df['course_tag'])"
   ]
  },
  {
   "cell_type": "code",
   "execution_count": 8,
   "metadata": {},
   "outputs": [
    {
     "data": {
      "text/html": [
       "<div>\n",
       "<style scoped>\n",
       "    .dataframe tbody tr th:only-of-type {\n",
       "        vertical-align: middle;\n",
       "    }\n",
       "\n",
       "    .dataframe tbody tr th {\n",
       "        vertical-align: top;\n",
       "    }\n",
       "\n",
       "    .dataframe thead th {\n",
       "        text-align: right;\n",
       "    }\n",
       "</style>\n",
       "<table border=\"1\" class=\"dataframe\">\n",
       "  <thead>\n",
       "    <tr style=\"text-align: right;\">\n",
       "      <th></th>\n",
       "      <th>user_id</th>\n",
       "      <th>name</th>\n",
       "      <th>designation</th>\n",
       "      <th>course_id</th>\n",
       "      <th>course_title</th>\n",
       "      <th>course_tag</th>\n",
       "      <th>course_duration</th>\n",
       "      <th>modules_completed</th>\n",
       "      <th>total_modules</th>\n",
       "      <th>completion_percentage</th>\n",
       "      <th>course_score</th>\n",
       "      <th>performance_score</th>\n",
       "      <th>course_tag_encoded</th>\n",
       "      <th>raw_score</th>\n",
       "      <th>normalized_score</th>\n",
       "    </tr>\n",
       "  </thead>\n",
       "  <tbody>\n",
       "    <tr>\n",
       "      <th>0</th>\n",
       "      <td>0564dc8a-2c53-44ac-b2ec-499755de840f</td>\n",
       "      <td>Shawna Flores</td>\n",
       "      <td>UI/UX Designer</td>\n",
       "      <td>4f3eb0d3-dd92-4afe-9c6c-cd1634770a52</td>\n",
       "      <td>Polarized static conglomeration</td>\n",
       "      <td>Mobile Development</td>\n",
       "      <td>117.0</td>\n",
       "      <td>4.0</td>\n",
       "      <td>7.0</td>\n",
       "      <td>57.142857</td>\n",
       "      <td>73.0</td>\n",
       "      <td>51.400000</td>\n",
       "      <td>5</td>\n",
       "      <td>4171.428571</td>\n",
       "      <td>0.421356</td>\n",
       "    </tr>\n",
       "    <tr>\n",
       "      <th>1</th>\n",
       "      <td>0564dc8a-2c53-44ac-b2ec-499755de840f</td>\n",
       "      <td>Shawna Flores</td>\n",
       "      <td>UI/UX Designer</td>\n",
       "      <td>5233bd5a-1fb4-4022-9ef4-9885ad9b99f4</td>\n",
       "      <td>Networked analyzing initiative</td>\n",
       "      <td>Software Testing</td>\n",
       "      <td>108.0</td>\n",
       "      <td>3.0</td>\n",
       "      <td>9.0</td>\n",
       "      <td>33.333333</td>\n",
       "      <td>60.0</td>\n",
       "      <td>51.400000</td>\n",
       "      <td>6</td>\n",
       "      <td>2000.000000</td>\n",
       "      <td>0.202020</td>\n",
       "    </tr>\n",
       "    <tr>\n",
       "      <th>2</th>\n",
       "      <td>0564dc8a-2c53-44ac-b2ec-499755de840f</td>\n",
       "      <td>Shawna Flores</td>\n",
       "      <td>UI/UX Designer</td>\n",
       "      <td>c388b418-ba14-4b9e-ae1f-b6ec6159ab06</td>\n",
       "      <td>Down-sized demand-driven paradigm</td>\n",
       "      <td>Generative AI</td>\n",
       "      <td>107.0</td>\n",
       "      <td>4.0</td>\n",
       "      <td>9.0</td>\n",
       "      <td>44.444444</td>\n",
       "      <td>26.0</td>\n",
       "      <td>51.400000</td>\n",
       "      <td>4</td>\n",
       "      <td>1155.555556</td>\n",
       "      <td>0.116723</td>\n",
       "    </tr>\n",
       "    <tr>\n",
       "      <th>3</th>\n",
       "      <td>07f6381b-edfe-4f3e-b485-0fc0d9fb6e97</td>\n",
       "      <td>Ryan Humphrey</td>\n",
       "      <td>AI Specialist</td>\n",
       "      <td>8e577a9b-05fd-42e0-b632-df1326c8f571</td>\n",
       "      <td>Optimized system-worthy concept</td>\n",
       "      <td>Mobile Development</td>\n",
       "      <td>159.0</td>\n",
       "      <td>2.0</td>\n",
       "      <td>6.0</td>\n",
       "      <td>33.333333</td>\n",
       "      <td>45.0</td>\n",
       "      <td>70.307692</td>\n",
       "      <td>5</td>\n",
       "      <td>1500.000000</td>\n",
       "      <td>0.151515</td>\n",
       "    </tr>\n",
       "    <tr>\n",
       "      <th>4</th>\n",
       "      <td>07f6381b-edfe-4f3e-b485-0fc0d9fb6e97</td>\n",
       "      <td>Ryan Humphrey</td>\n",
       "      <td>AI Specialist</td>\n",
       "      <td>a83b5073-16b7-4acd-b748-514eb1a25314</td>\n",
       "      <td>Public-key grid-enabled strategy</td>\n",
       "      <td>DevOps</td>\n",
       "      <td>106.0</td>\n",
       "      <td>2.0</td>\n",
       "      <td>7.0</td>\n",
       "      <td>28.571429</td>\n",
       "      <td>92.0</td>\n",
       "      <td>70.307692</td>\n",
       "      <td>3</td>\n",
       "      <td>2628.571429</td>\n",
       "      <td>0.265512</td>\n",
       "    </tr>\n",
       "  </tbody>\n",
       "</table>\n",
       "</div>"
      ],
      "text/plain": [
       "                                user_id           name     designation  \\\n",
       "0  0564dc8a-2c53-44ac-b2ec-499755de840f  Shawna Flores  UI/UX Designer   \n",
       "1  0564dc8a-2c53-44ac-b2ec-499755de840f  Shawna Flores  UI/UX Designer   \n",
       "2  0564dc8a-2c53-44ac-b2ec-499755de840f  Shawna Flores  UI/UX Designer   \n",
       "3  07f6381b-edfe-4f3e-b485-0fc0d9fb6e97  Ryan Humphrey   AI Specialist   \n",
       "4  07f6381b-edfe-4f3e-b485-0fc0d9fb6e97  Ryan Humphrey   AI Specialist   \n",
       "\n",
       "                              course_id                       course_title  \\\n",
       "0  4f3eb0d3-dd92-4afe-9c6c-cd1634770a52    Polarized static conglomeration   \n",
       "1  5233bd5a-1fb4-4022-9ef4-9885ad9b99f4     Networked analyzing initiative   \n",
       "2  c388b418-ba14-4b9e-ae1f-b6ec6159ab06  Down-sized demand-driven paradigm   \n",
       "3  8e577a9b-05fd-42e0-b632-df1326c8f571    Optimized system-worthy concept   \n",
       "4  a83b5073-16b7-4acd-b748-514eb1a25314   Public-key grid-enabled strategy   \n",
       "\n",
       "           course_tag  course_duration  modules_completed  total_modules  \\\n",
       "0  Mobile Development            117.0                4.0            7.0   \n",
       "1    Software Testing            108.0                3.0            9.0   \n",
       "2       Generative AI            107.0                4.0            9.0   \n",
       "3  Mobile Development            159.0                2.0            6.0   \n",
       "4              DevOps            106.0                2.0            7.0   \n",
       "\n",
       "   completion_percentage  course_score  performance_score  course_tag_encoded  \\\n",
       "0              57.142857          73.0          51.400000                   5   \n",
       "1              33.333333          60.0          51.400000                   6   \n",
       "2              44.444444          26.0          51.400000                   4   \n",
       "3              33.333333          45.0          70.307692                   5   \n",
       "4              28.571429          92.0          70.307692                   3   \n",
       "\n",
       "     raw_score  normalized_score  \n",
       "0  4171.428571          0.421356  \n",
       "1  2000.000000          0.202020  \n",
       "2  1155.555556          0.116723  \n",
       "3  1500.000000          0.151515  \n",
       "4  2628.571429          0.265512  "
      ]
     },
     "execution_count": 8,
     "metadata": {},
     "output_type": "execute_result"
    }
   ],
   "source": [
    "df['raw_score'] = df['completion_percentage'] * df['course_score']\n",
    "\n",
    "# Step 2: Normalize the score\n",
    "max_score = df['raw_score'].max()\n",
    "min_score = df['raw_score'].min()\n",
    "\n",
    "# Normalization formula: (score - min) / (max - min) * new_max\n",
    "df['normalized_score'] = (df['raw_score'] - min_score) / (max_score - min_score) \n",
    "df.head()"
   ]
  },
  {
   "cell_type": "code",
   "execution_count": 9,
   "metadata": {},
   "outputs": [
    {
     "data": {
      "text/plain": [
       "100"
      ]
     },
     "execution_count": 9,
     "metadata": {},
     "output_type": "execute_result"
    }
   ],
   "source": [
    "required_columns= [\n",
    "    'user_id','name','course_id','course_title','normalized_score'\n",
    "]\n",
    "\n",
    "df_final=df[required_columns]\n",
    "df_final.head()\n",
    "\n",
    "len(df_final)"
   ]
  },
  {
   "cell_type": "code",
   "execution_count": 10,
   "metadata": {},
   "outputs": [
    {
     "data": {
      "text/plain": [
       "100"
      ]
     },
     "execution_count": 10,
     "metadata": {},
     "output_type": "execute_result"
    }
   ],
   "source": [
    "df_final.drop_duplicates\n",
    "len(df_final)"
   ]
  },
  {
   "cell_type": "code",
   "execution_count": 27,
   "metadata": {},
   "outputs": [
    {
     "name": "stdout",
     "output_type": "stream",
     "text": [
      "Query user ID: a769e100-ae92-4a0a-96d0-628ce6c9c579 (Name: Bethany Pollard)\n",
      "\n",
      "Nearest Employees for User ID a769e100-ae92-4a0a-96d0-628ce6c9c579 (Name: Bethany Pollard):\n",
      "\n",
      "Self Match (Distance = 0):\n",
      "User ID d7ced9c9-c125-45b2-91c7-241cf90e006d (Name: Hannah Patel), with distance of 0.5793\n",
      "User ID 38995514-089d-469e-b7e0-d72ef1f642d3 (Name: Shirley Miller), with distance of 0.6210\n",
      "User ID f884a6af-afcf-4dd1-ae84-8f5f02804ede (Name: Christopher Melendez), with distance of 0.6395\n",
      "User ID 07f6381b-edfe-4f3e-b485-0fc0d9fb6e97 (Name: Ryan Humphrey), with distance of 0.7915\n",
      "User ID 0d525492-03a0-4e66-87d9-f4d4df10aa24 (Name: Justin Potts), with distance of 1.0000\n",
      "\n",
      "Recommended Courses for User ID a769e100-ae92-4a0a-96d0-628ce6c9c579 (Name: Bethany Pollard) (not previously taken):\n",
      "\n",
      "Focused even-keeled instruction set\n",
      "Public-key grid-enabled strategy\n",
      "Future-proofed responsive model\n",
      "Automated 5thgeneration task-force\n",
      "\n",
      "RMSE: 0.1755\n"
     ]
    }
   ],
   "source": [
    "df_final_agg = df_final.groupby(['user_id', 'course_title'], as_index=False)['normalized_score'].mean()\n",
    "\n",
    "# Create a pivot table: user_id as rows, course_title as columns, and normalized_score as values\n",
    "df_pivot = df_final_agg.pivot(index='user_id', columns='course_title', values='normalized_score').fillna(0)\n",
    "\n",
    "# Convert the pivot table to a sparse matrix\n",
    "df_matrix = csr_matrix(df_pivot.values)\n",
    "\n",
    "# Fit the NearestNeighbors model\n",
    "model_knn = NearestNeighbors(metric='cosine', algorithm='brute')\n",
    "model_knn.fit(df_matrix)\n",
    "\n",
    "# Randomly choose an employee for recommendations\n",
    "query_index = np.random.choice(df_pivot.shape[0])\n",
    "query_user_id = df_pivot.index[query_index]\n",
    "\n",
    "# Get the name of the querying user\n",
    "query_user_name = df_final[df_final['user_id'] == query_user_id]['name'].values[0]\n",
    "print(f\"Query user ID: {query_user_id} (Name: {query_user_name})\")\n",
    "\n",
    "# Get recommendations\n",
    "distances, indices = model_knn.kneighbors(df_pivot.iloc[query_index, :].values.reshape(1, -1), n_neighbors=6)\n",
    "\n",
    "# Display nearest employees\n",
    "print(f'\\nNearest Employees for User ID {query_user_id} (Name: {query_user_name}):\\n')\n",
    "recommended_ids = []\n",
    "for i in range(len(distances.flatten())):\n",
    "    if i == 0:\n",
    "        print('Self Match (Distance = 0):')\n",
    "    else:\n",
    "        recommended_id = df_pivot.index[indices.flatten()[i]]\n",
    "        recommended_ids.append(recommended_id)\n",
    "        user_name = df_final[df_final['user_id'] == recommended_id]['name'].values[0]  # Get the name\n",
    "        print(f'User ID {recommended_id} (Name: {user_name}), with distance of {distances.flatten()[i]:.4f}')\n",
    "\n",
    "# Gather courses from nearest employees\n",
    "all_courses = set()\n",
    "user_courses = set(df_final[df_final['user_id'] == query_user_id]['course_title'])\n",
    "\n",
    "for user_id in recommended_ids:\n",
    "    courses_taken = df_final[df_final['user_id'] == user_id]['course_title'].unique()\n",
    "    all_courses.update(courses_taken)\n",
    "\n",
    "# Determine courses to recommend\n",
    "unique_courses = all_courses.difference(user_courses)\n",
    "\n",
    "if unique_courses:\n",
    "    print(f'\\nRecommended Courses for User ID {query_user_id} (Name: {query_user_name}) (not previously taken):\\n')\n",
    "    for course in unique_courses:\n",
    "        print(course)\n",
    "else:\n",
    "    # If no unique courses, suggest any course from the nearest employees\n",
    "    print(f'\\nAll courses have been taken by User ID {query_user_id} (Name: {query_user_name}). Suggesting courses from nearest employees:\\n')\n",
    "    suggested_courses = list(all_courses)\n",
    "    for course in suggested_courses:\n",
    "        print(course)\n",
    "\n",
    "# Optionally calculate RMSE (if needed)\n",
    "def calculate_rmse(recommended_ids, actual_scores):\n",
    "    relevant_scores = df_final[df_final['user_id'].isin(recommended_ids)]\n",
    "\n",
    "    if relevant_scores.empty:\n",
    "        return float('nan')  # Return NaN if no relevant scores are found\n",
    "\n",
    "    y_true = relevant_scores['normalized_score']\n",
    "    y_pred = relevant_scores['normalized_score'].mean()  # Using the mean as a simple prediction\n",
    "\n",
    "    rmse = np.sqrt(mean_squared_error(y_true, [y_pred] * len(y_true)))\n",
    "    return rmse\n",
    "\n",
    "# Calculate RMSE (if desired)\n",
    "rmse_value = calculate_rmse(recommended_ids, df_final)\n",
    "print(f'\\nRMSE: {rmse_value:.4f}')\n"
   ]
  }
 ],
 "metadata": {
  "kernelspec": {
   "display_name": "Python 3",
   "language": "python",
   "name": "python3"
  },
  "language_info": {
   "codemirror_mode": {
    "name": "ipython",
    "version": 3
   },
   "file_extension": ".py",
   "mimetype": "text/x-python",
   "name": "python",
   "nbconvert_exporter": "python",
   "pygments_lexer": "ipython3",
   "version": "3.12.5"
  }
 },
 "nbformat": 4,
 "nbformat_minor": 2
}
